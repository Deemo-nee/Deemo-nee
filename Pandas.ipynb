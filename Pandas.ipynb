{
  "nbformat": 4,
  "nbformat_minor": 0,
  "metadata": {
    "colab": {
      "provenance": [],
      "collapsed_sections": [],
      "authorship_tag": "ABX9TyPQ5Pi2/bQKZdcSgzp6MA3C",
      "include_colab_link": true
    },
    "kernelspec": {
      "name": "python3",
      "display_name": "Python 3"
    },
    "language_info": {
      "name": "python"
    }
  },
  "cells": [
    {
      "cell_type": "markdown",
      "metadata": {
        "id": "view-in-github",
        "colab_type": "text"
      },
      "source": [
        "<a href=\"https://colab.research.google.com/github/Deemo-nee/Python_basic/blob/main/Pandas.ipynb\" target=\"_parent\"><img src=\"https://colab.research.google.com/assets/colab-badge.svg\" alt=\"Open In Colab\"/></a>"
      ]
    },
    {
      "cell_type": "markdown",
      "source": [
        "# Pandas"
      ],
      "metadata": {
        "id": "4ycrdTpQV17M"
      }
    },
    {
      "cell_type": "markdown",
      "source": [
        "Getting and Knowing Data"
      ],
      "metadata": {
        "id": "2tIFxKDhXT17"
      }
    },
    {
      "cell_type": "code",
      "execution_count": 6,
      "metadata": {
        "id": "LmjyyQKdWhZp"
      },
      "outputs": [],
      "source": [
        "import pandas as pd\n",
        "import numpy as np"
      ]
    },
    {
      "cell_type": "code",
      "source": [
        "# Import Dataset \n",
        "df = pd.read_csv(\"/content/chipotle.tsv\", sep = \"\\t\")\n",
        "\n",
        "df.head(10) #Hiển thị 10 dòng đầu tiên trong dataset"
      ],
      "metadata": {
        "id": "AEi6J3iEWEyw"
      },
      "execution_count": null,
      "outputs": []
    },
    {
      "cell_type": "markdown",
      "source": [
        "Dataset Overview"
      ],
      "metadata": {
        "id": "PNEz0moUXQ4r"
      }
    },
    {
      "cell_type": "code",
      "source": [
        "# Dataset Overview\n",
        "df.shape \n",
        "df.info() #Kiểm tra thoong tin Dataset\n",
        "\n",
        "#Hiển thị toàn bộ tên cột trong Dataset\n",
        "df.columns\n",
        "\n",
        "#Kiểm tra Dataset được đánh số bao nhiêu tới bao nhiêu \n",
        "df.index"
      ],
      "metadata": {
        "id": "18Hfc2TkWox7"
      },
      "execution_count": null,
      "outputs": []
    },
    {
      "cell_type": "code",
      "source": [
        "df.describe(include = \"all\")"
      ],
      "metadata": {
        "id": "pUtSjMhbY7in"
      },
      "execution_count": null,
      "outputs": []
    },
    {
      "cell_type": "markdown",
      "source": [
        "Location and Index Location (loc and iloc)"
      ],
      "metadata": {
        "id": "h3Mq7OpbZLpq"
      }
    },
    {
      "cell_type": "code",
      "source": [
        "#Lọc item có quantity = 15 hoặc item_name = Izze\t\n",
        "df.loc[(df.quantity == 15) | (df.item_name ==\"Izze\")]"
      ],
      "metadata": {
        "id": "Y7p8SGqtZB5Q"
      },
      "execution_count": null,
      "outputs": []
    },
    {
      "cell_type": "code",
      "source": [
        "#Lọc ra item có quantity = 2 và item_name = Nantucket Nectar\t\n",
        "df.loc[(df.quantity == 2) & (df.item_name ==\"Nantucket Nectar\")]"
      ],
      "metadata": {
        "id": "p0UkFMkda3uz"
      },
      "execution_count": null,
      "outputs": []
    },
    {
      "cell_type": "code",
      "source": [
        "#Lọc ra order_id, quantity, item_name của các sản phẩm có quantity = 2 và item_name = Nantucket Nectar\t\n",
        "df.loc[(df.quantity == 2) & (df.item_name ==\"Nantucket Nectar\"), [\"order_id\", \"quantity\", \"item_name\"]]"
      ],
      "metadata": {
        "id": "j5v4x1m7b0dG"
      },
      "execution_count": null,
      "outputs": []
    },
    {
      "cell_type": "code",
      "source": [
        "#Index location\n",
        "#Lọc ra hàng thứ 10 \n",
        "df.iloc[[9]] #iloc[9] bởi vì Dataset này có hàng bắt đầu từ 0 "
      ],
      "metadata": {
        "id": "yTAFT573cj4p"
      },
      "execution_count": null,
      "outputs": []
    },
    {
      "cell_type": "code",
      "source": [
        "#Lọc ra item từ hàng thứ 3 tới hàng thứ 10\n",
        "df.iloc[3:11]"
      ],
      "metadata": {
        "id": "EVQ9caJWdaiA"
      },
      "execution_count": null,
      "outputs": []
    },
    {
      "cell_type": "code",
      "source": [
        "#Lọc dữ liệu từ 3 đến 4 và in ra các cột mình muốn\n",
        "#Lấy toàn bộ dữ liệu trừ cột cuối cùng\n",
        "x = df.iloc[3:5, :-1]\n",
        "\n",
        "#Lấy dữ liệu cột cuối cùng từ hàng 3 đến 4\n",
        "y = df.iloc[3:5, -1]\n",
        "print(y)"
      ],
      "metadata": {
        "id": "igcUzXqWdqSW"
      },
      "execution_count": null,
      "outputs": []
    },
    {
      "cell_type": "markdown",
      "source": [
        "Data Manipulation\n"
      ],
      "metadata": {
        "id": "kfvWJ-PZfVGY"
      }
    },
    {
      "cell_type": "code",
      "source": [
        "#Kiểu tra kiểu dữ liệu của cột\n",
        "df.item_price.dtype"
      ],
      "metadata": {
        "id": "UyZLInUXfZ6B"
      },
      "execution_count": null,
      "outputs": []
    },
    {
      "cell_type": "code",
      "source": [
        "#Hàm Apply() và lambda để chuyển đổi $ thành rỗng của cột item_price -- đồng thời ép kiểu dữ liệu cột item_price thành kiểu float\n",
        "df.item_price = df.item_price.apply(lambda x : float(x.replace('$', '')))"
      ],
      "metadata": {
        "id": "4B61DvNogGXv"
      },
      "execution_count": 56,
      "outputs": []
    },
    {
      "cell_type": "code",
      "source": [
        "df.head()"
      ],
      "metadata": {
        "id": "sl5WbTrWhaLu"
      },
      "execution_count": null,
      "outputs": []
    },
    {
      "cell_type": "code",
      "source": [
        "#Thêm cột total_price vào Dataset bằng quantity nhân item_price -- có thể format theo kiểu df.<tên cột> hoặc df['<tên cột>']\n",
        "df['total_price'] = df['quantity'] * df['item_price']\n",
        "df.head()"
      ],
      "metadata": {
        "id": "OxEZNSmsiLzE"
      },
      "execution_count": null,
      "outputs": []
    },
    {
      "cell_type": "code",
      "source": [
        "#Tính tổng total_price\n",
        "revenue = df.total_price.sum()\n",
        "print(revenue)"
      ],
      "metadata": {
        "id": "VzjPf2MFjQ_e"
      },
      "execution_count": null,
      "outputs": []
    },
    {
      "cell_type": "code",
      "source": [
        "#Lọc ra món được gọi nhiều nhất\n",
        "#Sử dụng hàm groupby() nhóm item_name(tên sản phẩm) với tổng quantity(số lượng order)\n",
        "a = df.groupby(\"item_name\") ['quantity'].sum()\n",
        "a.sort_values(ascending = False).head(5) #sort_values(ascending = False) Sắp xếp giảm dần -- sort_values() mặc định tăng dần -- head(5) lọc ra 5 món đầu tiên"
      ],
      "metadata": {
        "id": "MnwgY8pTjkTO"
      },
      "execution_count": null,
      "outputs": []
    },
    {
      "cell_type": "code",
      "source": [
        "#Unique values\n",
        "#Đếm các món hàng được order bao nhiêu lần\n",
        "df.item_name.value_counts()\n",
        "\n",
        "#Đếm xem có bao nhiêu món hàng được order\n",
        "df.item_name.value_counts().count()"
      ],
      "metadata": {
        "id": "JDVqy3-8lnCd"
      },
      "execution_count": null,
      "outputs": []
    },
    {
      "cell_type": "code",
      "source": [
        "#Tính xem có bao nhiêu món hàng khác nhau -- \"unique\": liệt kê danh sách item khác nhau --\"nunique\": Số lương các item khác nhau\n",
        "df.item_name.nunique()"
      ],
      "metadata": {
        "id": "I6wu1Jy0l363"
      },
      "execution_count": null,
      "outputs": []
    }
  ]
}