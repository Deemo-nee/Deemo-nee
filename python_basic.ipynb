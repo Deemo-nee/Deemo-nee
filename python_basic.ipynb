{
  "nbformat": 4,
  "nbformat_minor": 0,
  "metadata": {
    "colab": {
      "name": "python_basic.ipynb",
      "provenance": [],
      "collapsed_sections": [],
      "authorship_tag": "ABX9TyP6R/qC+Ayx/Na2jdJGkbyg",
      "include_colab_link": true
    },
    "kernelspec": {
      "name": "python3",
      "display_name": "Python 3"
    },
    "language_info": {
      "name": "python"
    }
  },
  "cells": [
    {
      "cell_type": "markdown",
      "metadata": {
        "id": "view-in-github",
        "colab_type": "text"
      },
      "source": [
        "<a href=\"https://colab.research.google.com/github/Deemo-nee/Python_basic/blob/main/python_basic.ipynb\" target=\"_parent\"><img src=\"https://colab.research.google.com/assets/colab-badge.svg\" alt=\"Open In Colab\"/></a>"
      ]
    },
    {
      "cell_type": "markdown",
      "source": [
        "# Các câu lệnh Python cơ bản"
      ],
      "metadata": {
        "id": "EsPIkfzRElhb"
      }
    },
    {
      "cell_type": "code",
      "execution_count": null,
      "metadata": {
        "id": "60cCQDHlxv-n"
      },
      "outputs": [],
      "source": [
        "# Sử dụng câu lệnh print() để in dòng \"Hello World\" ra màn hình\n",
        "print('Hello World')"
      ]
    },
    {
      "cell_type": "markdown",
      "source": [
        "Trong python chúng ta có thể sử dụng hàm *input()* để lấy các giá trị từ người dùng và sử dụng *print()* để hiển thị những thông tin đó ra màn hình.\n",
        "\n"
      ],
      "metadata": {
        "id": "3uZ-tG4N2Z87"
      }
    },
    {
      "cell_type": "code",
      "source": [
        "# Sử dụng hàm input() để nhập vào dữ liệu dưới kiểu chuỗi (string)\n",
        "fullname = input('Nhap vao ten cua ban:')\n",
        "# Hiển thị kết quả từ biến fullname do bạn nhập vào\n",
        "print('Tên của bạn là: ' + fullname)"
      ],
      "metadata": {
        "id": "_tpYVnULyQyh"
      },
      "execution_count": null,
      "outputs": []
    },
    {
      "cell_type": "code",
      "source": [
        "# Nhập dữ liệu kiểu chuỗi và chuyển đổi thành kiểu số nguyên (int) --Ép kiểu--\n",
        "x = int(input('Nhập vào số x: '))\n",
        "y = int(input('Nhập vào số y: '))\n",
        "# Tính tổng 2 số x và y do người dùng nhập vào và gán biến là z\n",
        "z = x + y \n",
        "# In kết quả của biến z ra màn hình\n",
        "print('x + y = {0}'.format(z))"
      ],
      "metadata": {
        "id": "LNSgiWyLy7AC"
      },
      "execution_count": null,
      "outputs": []
    },
    {
      "cell_type": "markdown",
      "source": [
        "# Biến\n"
      ],
      "metadata": {
        "id": "HyjC4Vx2EgVY"
      }
    },
    {
      "cell_type": "markdown",
      "source": [
        "***Biến*** trong python là đơn vị lưu trữ cơ bản trong một chương trình python, một biến được khởi tạo tại thời điểm lần đầu tiên khi mà chúng ta gán một giá trị cho nó. Một biến hoàn toàn có thể được thay đổi trong quá trình thực thi chương trình.\n"
      ],
      "metadata": {
        "id": "pF4ZGIoL22yO"
      }
    },
    {
      "cell_type": "code",
      "source": [
        "# Ví dụ chúng ta khai báo các biến a, b, c, d\n",
        "a = 5\n",
        "b = 0.5\n",
        "c = \"Hello anh em\"\n",
        "d = True\n",
        "\n",
        "# Ngoài ra chúng ta có thể khai báo nhiều biến có chung một giá trị\n",
        "# Ví dụ khai báo biến x, y, z có chung giá trị là 10\n",
        "x = y = z = 10\n",
        "\n",
        "# In ra các giá trị của các biến\n",
        "print(a)\n",
        "print(b)\n",
        "print(c)\n",
        "print(d)\n",
        "print(x, y, z) # In ra trên cùng 1 hàng"
      ],
      "metadata": {
        "id": "QoF0oHlf2UMj"
      },
      "execution_count": null,
      "outputs": []
    },
    {
      "cell_type": "markdown",
      "source": [
        "***Biến toàn cục*** là biến nằm bên ngoài các hàm, các lớp và chúng có thể sử ụng bất kì đâu trong chương trình"
      ],
      "metadata": {
        "id": "HOc2eQqw5ouz"
      }
    },
    {
      "cell_type": "code",
      "source": [
        "# Khai báo biến toàn cục và sử dụng nó trong hàm\n",
        "name = \"This is my name\"\n",
        "# Khởi tạo hàm def\n",
        "def Hello():\n",
        "  # Sử dụng biến toàn cục trong hàm\n",
        "  print(\"Xin chào:\" + name)"
      ],
      "metadata": {
        "id": "6BO6P2J250CT"
      },
      "execution_count": null,
      "outputs": []
    },
    {
      "cell_type": "markdown",
      "source": [
        "# Kiểu dữ liệu"
      ],
      "metadata": {
        "id": "Whxqm0W1ERkx"
      }
    },
    {
      "cell_type": "markdown",
      "source": [
        "***Kiểu dữ liệu*** trong Python được xem là các mục phân loại dữ liệu. Nó đại diện cho loại giá trị đang thao tác và cho biết những thao tác nào có thể thực hiện được trên kiểu dữ liệu đó. Một vài kiểu dữ liệu: str, int, float_ complex, list, tuple_ range, dict, bool. \n"
      ],
      "metadata": {
        "id": "ZZETGoto7VSd"
      }
    },
    {
      "cell_type": "code",
      "source": [
        "# Khai báo các kiểu dữ liệu\n",
        "# Biến a với kiểu dữ liệu int\n",
        "a = 10\n",
        "# Biến b với kiểu dữ liệu float\n",
        "b = 5.5\n",
        "# Biến c với kiểu dữ liệu str\n",
        "c = \"Hello các bạn\"\n",
        "# Biến d với kiểu dữ liệu bool\n",
        "d = True\n",
        "\n",
        "# Sử dụng hàm type() để xác định kiểu của các dữ liệu và sử dụng câu lệnh print() để in chúng ra màn hình\n",
        "print(type(a))\n",
        "print(type(b))\n",
        "print(type(c))\n",
        "print(type(d))"
      ],
      "metadata": {
        "id": "sYqM9kxB8ghw"
      },
      "execution_count": null,
      "outputs": []
    },
    {
      "cell_type": "code",
      "source": [
        "# Ép kiểu trong Python\n",
        "# Ví dụ ép kiểu str trong biến a, b thành kiểu int và thực hiện phép tính\n",
        "a = \"10\"\n",
        "b = \"15\"\n",
        "c = int(a) + int(b)\n",
        "print (c)"
      ],
      "metadata": {
        "id": "5vtAVyb79V8Q"
      },
      "execution_count": null,
      "outputs": []
    },
    {
      "cell_type": "code",
      "source": [
        "# Ép kiểu int thành kiểu str và in ra màn hình\n",
        "age = 15\n",
        "tuoi = str(age)\n",
        "print(\"Tôi năm nay:\", tuoi, \"tuổi\")"
      ],
      "metadata": {
        "id": "1gQdQcA29tZv"
      },
      "execution_count": null,
      "outputs": []
    },
    {
      "cell_type": "markdown",
      "source": [
        "***Kiểu dữ liệu số*** trong Python bao gồm 3 kiểu: *int, float, complex*"
      ],
      "metadata": {
        "id": "XaG_gcV6_O3R"
      }
    },
    {
      "cell_type": "code",
      "source": [
        "# Kiểu dữ liệu int là kiểu dữ liệu số nguyên có thể là một số âm hoặc dương với độ dài không giới hạn\n",
        "# Ví dụ với các kiểu số nguyên\n",
        "a = 5\n",
        "b = -10\n",
        "c = 1293182931\n",
        "\n",
        "# Thử kiểm tra xem 3 số a, b, c thuộc kiểu nào\n",
        "print(type(a))\n",
        "print(type(b))\n",
        "print(type(c))"
      ],
      "metadata": {
        "id": "tgzhmfNG-H-O"
      },
      "execution_count": null,
      "outputs": []
    },
    {
      "cell_type": "code",
      "source": [
        "# Kiểu dữ liệu float là một số thực, số này cũng có thể là một số ấm hoặc dương chứa một hoặc nhiều số thập phân \n",
        "# Ví dụ khai báo các kiểu số thực với các biến\n",
        "x = 13.15\n",
        "y = -22.1532\n",
        "# Kiểm tra kiểu dữ liệu của 2 biến x và y\n",
        "print(type(x))\n",
        "print(type(y))"
      ],
      "metadata": {
        "id": "RNxy7iz__JG9"
      },
      "execution_count": null,
      "outputs": []
    },
    {
      "cell_type": "code",
      "source": [
        "# Kiểu dữ liệu complex là một số phức được viết với kí tự \"j\" là phần ảo của số phức\n",
        "# Số phức trong Python có dạng a + bj --Phần thực của số phức là a và phần ảo của số phức là b\n",
        "# Ví dụ khai báo các kiểu dữ liệu số phức \n",
        "m = 2 + 3j\n",
        "n = -3j\n",
        "k = -3 - 5j\n",
        "# Kiểm tra kiểu dữ liệu của 3 biến trên\n",
        "print(type(m))\n",
        "print(type(n))\n",
        "print(type(k))"
      ],
      "metadata": {
        "id": "e9Op7XCfAqU3"
      },
      "execution_count": null,
      "outputs": []
    },
    {
      "cell_type": "markdown",
      "source": [
        "Kiểu dữ liệu Boolean trong Python là kiểu dữ liệu đại diện cho một trong hai giá trị là: True hoặc False (Chỉ đúng hoặc sai)\n",
        "- Chúng ta có thể sử dụng Boolean để làm hàm đánh giá giá trị đúng hoặc sai, kiểm tra, so sánh giữa các biểu thức"
      ],
      "metadata": {
        "id": "VyA9GD2vCZnW"
      }
    },
    {
      "cell_type": "code",
      "source": [
        "# Ví dụ kiểm tra xem các kết quả của giá trị trên và in ra màn hình đúng hay sai\n",
        "print(15 == 10)\n",
        "print(15 > 10)\n",
        "print(15 < 10)"
      ],
      "metadata": {
        "id": "Y4ngpEl-C3tx"
      },
      "execution_count": null,
      "outputs": []
    },
    {
      "cell_type": "code",
      "source": [
        "# Kiểu Boolean cũng được sử dụng trong câu điều kiện If else\n",
        "# Kiểm tra xem nếu đúng sẽ thực thi câu lệnh với điều kiện đúng sai thì thực thi câu lệnh với điều kiện sai\n",
        "\n",
        "# Ví dụ khai báo hai biến a và b kiểm tra xem giá trị nào lớn hơn\n",
        "a = 100\n",
        "b = 500\n",
        "if a > b:\n",
        "  print(\"a lớn hơn b\")\n",
        "else:\n",
        "  print(\"a nhỏ hơn b\")"
      ],
      "metadata": {
        "id": "eGCnbb3BEAa-"
      },
      "execution_count": null,
      "outputs": []
    },
    {
      "cell_type": "code",
      "source": [
        "# Boolean còn được sử dụng làm giá trị trả về cho hàm, một hàm có thể trả về giá trị True hoặc False\n",
        "# Ví dụ khởi tạo hàm Hello() và trả về giá trị True \n",
        "def Hello():\n",
        "  return True\n",
        "# Nếu hàm Hello() trả về giá trị True thì in ra \"Hello!\"\n",
        "if Hello() == True:\n",
        "  print(\"hello!\")\n",
        "# Ngược lại nếu hàm Hello() không trả về giá trị True thì in ra mà hình \"Oops\"\n",
        "else: \n",
        "  print(\"Oops\")"
      ],
      "metadata": {
        "id": "KMCkPemDFLWs"
      },
      "execution_count": null,
      "outputs": []
    },
    {
      "cell_type": "markdown",
      "source": [
        "# Toán tử số học"
      ],
      "metadata": {
        "id": "kM9uhr_kD1Nf"
      }
    },
    {
      "cell_type": "markdown",
      "source": [
        "Toán tử số học trong Python là các phép toán và các ký hiệu tương ứng bên phải: cộng +, trừ -, nhân *, chia /, chia lấy dư %, lũy thừa của 2 số a và b (a mũ b) --Kí hiệu lũy thừa a và b là 2 dấu nhân--"
      ],
      "metadata": {
        "id": "aR1EGnZDGSFC"
      }
    },
    {
      "cell_type": "code",
      "source": [
        "# Ví dụ về các toán tử số học\n",
        "# Khai báo 2 biến a và b là 2 số nguyên\n",
        "a = 5\n",
        "b = 9\n",
        "\n",
        "# Cộng hai số a và b\n",
        "add = a + b\n",
        "# Trừ hai số a và b \n",
        "sub = a - b\n",
        "# Nhân hai số a và b \n",
        "mul = a * b\n",
        "# Chia hai số a và b\n",
        "div = a / b\n",
        "# Chia lấy phần dư giữa 2 số a và b\n",
        "mod = a % b\n",
        "# Lũy thừa của a và b (a mũ b)\n",
        "p = a ** b\n",
        "\n",
        "# In kết quả ra màn hình\n",
        "print(add)\n",
        "print(sub)\n",
        "print(mul)\n",
        "print(div)\n",
        "print(mod)\n",
        "print(p)"
      ],
      "metadata": {
        "id": "87qJhjg_GPUm"
      },
      "execution_count": null,
      "outputs": []
    },
    {
      "cell_type": "markdown",
      "source": [
        "# Toán tử gán\n"
      ],
      "metadata": {
        "id": "v32ibPEaDiIn"
      }
    },
    {
      "cell_type": "markdown",
      "source": [
        "Toán tử gán trong Python được sử dụng để gán giá trị trong các biến. Các phép gán có thể là gán hai biến băng nhau, gán cộng bằng, gán nhân bằng, gán chia bằng..."
      ],
      "metadata": {
        "id": "-hH91TuQ_1r3"
      }
    },
    {
      "cell_type": "code",
      "source": [
        "# Gán x = 6 và y = 3\n",
        "x = 6\n",
        "y = 3\n",
        "# In kết quả ra màn hình \n",
        "print (x, y)\n",
        "\n",
        "# Toán tử gán cộng bằng -- \"x += y\" tương đương với \"x = x + y\"\n",
        "x += y\n",
        "print(\"x =\",x) #print(\"x = {0}\".format(x))\n",
        "\n",
        "# Toán tử gán trừ bằng -- \"x -= y\" tương đương với \"x = x - y\"\n",
        "x -= y\n",
        "print(\"x = {0}\".format(x))\n",
        "\n",
        "# Toán tử gán nhân bằng -- \"x *= y\" tương đương với \"x = x * y\"\n",
        "x *= y\n",
        "print(\"x = {0}\".format(x))\n",
        "\n",
        "# Toán tử gán chia bằng -- \"x /= y\" tương đương với \"x = x / y\"\n",
        "x /= y\n",
        "print(\"x = {0}\".format(x))\n",
        "\n",
        "# Toán tử gán chia lấy dư -- \"x %= y\" tương đương với \"x = x % y\"\n",
        "x %= y\n",
        "print(\"x = {0}\".format(x))\n",
        "\n",
        "# Toán tử gán lũy thừa x mũ y -- \"x **= y\" tương đương với \"x = x ** y\"\n",
        "x **= y\n",
        "print(\"x = {0}\".format(x))\n"
      ],
      "metadata": {
        "id": "5IOfimyq-Z4t"
      },
      "execution_count": null,
      "outputs": []
    },
    {
      "cell_type": "markdown",
      "source": [
        "# Toán tử\n"
      ],
      "metadata": {
        "id": "WFr-4GCBDcqS"
      }
    },
    {
      "cell_type": "markdown",
      "source": [
        "***Toán tử so sánh*** trong Python được sử dụng để so sánh giữa 2 giá trị hoặc so sánh tính đúng sái giữa hai mệnh đề."
      ],
      "metadata": {
        "id": "i9LCCVaiC_x_"
      }
    },
    {
      "cell_type": "code",
      "source": [
        "# Toán tử so sánh ==, !=, >, <, >=, <=\n",
        "a = 5\n",
        "b = 10\n",
        "\n",
        "# So sánh a có bằng b không \n",
        "print(\"a = b: {0}\".format(a == b))\n",
        "# So sánh a có khác b không \n",
        "print(\"a != b: {0}\".format(a != b))\n",
        "# So sánh a có lớn hơn b không \n",
        "print(\"a > b: {0}\".format(a > b))\n",
        "# So sánh a có nhỏ hơn b không \n",
        "print(\"a < b: {0}\".format(a < b))\n",
        "# So sánh a có nhỏ hơn hoặc băng b không \n",
        "print(\"a <= b: {0}\".format(a <= b))\n",
        "# So sánh a có lớn hơn hoặc bằng b không \n",
        "print(\"a >= b: {0}\".format(a >= b))"
      ],
      "metadata": {
        "id": "kVTq6-pQA234"
      },
      "execution_count": null,
      "outputs": []
    },
    {
      "cell_type": "markdown",
      "source": [
        "***Toán tử logic*** trong Python thường được sử dụng kèm theo với câu điều kiện để kiểm tra tính đúng sai giữa hai hay nhiều mệnh đề. Các toán tử này sẽ là: and, or, not."
      ],
      "metadata": {
        "id": "ckiFl0hYGMXX"
      }
    },
    {
      "cell_type": "code",
      "source": [
        "# Toán tử and trả về True nếu cả 2 mệnh đề cần so sánh đồng thời là true (Cả hai đều phải đúng)\n",
        "x = 5\n",
        "# Kiểm tra tính đúng sai của 2 mệnh đề băng toán từ \"and\"\n",
        "print(\"x < 10 và x < 15 là:\", (x < 10 and x < 15))\n",
        "\n",
        "# Toán tử or trả về True nếu tồn tại 1 TRONG 2 HOẶC CẢ 2 mệnh đề cần so sánh là True \n",
        "# Kiểm tra tính đúng sai của 2 mệnh đề bằng toán tử \"or\"\n",
        "print(\"x < 1 or x < 15 là:\", (x < 1 or x < 15))\n",
        "\n",
        "# Toán tử not trả về phủ định của một mệnh đề. Biến mệnh đề đúng thành sai và ngược lại\n",
        "# Kiểm tra tính đúng sai của 2 mệnh đề bằng toán tử \"not\"\n",
        "print(\"not(x < 10 and < 15 là):\", not(x < 10 and x < 15))\n"
      ],
      "metadata": {
        "id": "I97y14uDGjFa"
      },
      "execution_count": null,
      "outputs": []
    },
    {
      "cell_type": "markdown",
      "source": [
        "***Toán tử nhận dạng*** trong Python được sử dụng để kiểm tra các phần tử con, kiểm tra dựa vào việc các phần tử con có thuộc một đối tượng cha hay không? các toán tử con bao gồm: is, not is"
      ],
      "metadata": {
        "id": "zCrwQdbMIms0"
      }
    },
    {
      "cell_type": "code",
      "source": [
        "# Toán tử \"is\" trả về true nếu cả hai biến cùng là một đối tượng\n",
        "# Khai báo danh sách x và y\n",
        "x = [\"a\", \"b\", \"c\"]\n",
        "x = [\"chó\", \"lợn\", \"gà\"]\n",
        "\n",
        "# Gán z bằng list x\n",
        "z = x\n",
        "# Kiểm tra x có phải là đối tượng z hay không\n",
        "print(\"x is z:\", (x is z))\n",
        "# Kiểm tra x có phải là đối tượng y hay không\n",
        "print(\"x is y:\", (x is y))\n",
        "\n",
        "# Toán tử \"is not\" trả về True nếu cả hai biến đều không cùng là một đối tượng \n",
        "# Kiểm tra x không phải là z đúng hay sai\n",
        "print(\"x is not z:\", (x is not z))\n",
        "# Kiểm tra x không phải là y đúng hay sai\n",
        "print(\"x is not y:\", (x is not y))\n"
      ],
      "metadata": {
        "id": "C59jGc6MI_cs"
      },
      "execution_count": null,
      "outputs": []
    },
    {
      "cell_type": "markdown",
      "source": [
        "Các toán tử thành viên trong Python được sử dụng để kiểm tra xem một chuỗi con nào đó có thuột chuỗi cha nào đó hay không? các toán tử bao gồm: in, not in "
      ],
      "metadata": {
        "id": "4ILHWhjKKXqM"
      }
    },
    {
      "cell_type": "code",
      "source": [
        "# Toán tử \"in\" trả về True nếu như một chuỗi con thuộc một đối tượng cần kiểm tra\n",
        "# Khai báo list x\n",
        "x = [\"cho\", \"ga\", \"lon\"]\n",
        "# Khai báo biến con y và z\n",
        "y = \"ga\"\n",
        "z = \"cá\"\n",
        "\n",
        "# Kiểm tra chuỗi y có nằm trong list x hay không \n",
        "print(\"y in x: {0}\".format(y in x))\n",
        "# Kiểm tra chuỗi z có nằm trong list x hay không \n",
        "print(\"z in x: {0}\".format(z in x))\n",
        "\n",
        "# Toán tử \"not in\" trả về True nếu như một chuỗi con không thuộc một đối tượng cần kiểm tra\n",
        "# ví dụ với list a\n",
        "a = [1, 2, 3, 4, 5]\n",
        "b = 7\n",
        "\n",
        "# Kiểm tra chuỗi con b có KHÔNG NẰM TRONG list a hay không \n",
        "print(\"b not in a: {0}\".format(b not in a))\n",
        "\n",
        "c = 1\n",
        "# Kiểm tra chuỗi c có KHÔNG NẰM TRONG list a hay không \n",
        "print(\"c not in a: {0}\".format(c not in a))\n"
      ],
      "metadata": {
        "id": "Dr-9Nb4dKpN7"
      },
      "execution_count": null,
      "outputs": []
    },
    {
      "cell_type": "markdown",
      "source": [
        "# Kiểu dữ liệu string"
      ],
      "metadata": {
        "id": "dGrD1BgfPKpv"
      }
    },
    {
      "cell_type": "markdown",
      "source": [
        "Kiểu dữ liệu string trong Python là các ký tự hay một chuỗi các ký tự được đặt trong giấu nháy kép hoặc nháy đơn. Ví dự các chuỗi như: 'hello', \"Xin chào\""
      ],
      "metadata": {
        "id": "q3QBC3AUPJHp"
      }
    },
    {
      "cell_type": "code",
      "source": [
        "# Ví dụ khai báo hai biến a và b\n",
        "a = \"Hello\"\n",
        "b = \"anh em\"\n",
        "# In ra màn hình\n",
        "print(a)\n",
        "print(b)"
      ],
      "metadata": {
        "id": "pUeSGIdyPkkC"
      },
      "execution_count": null,
      "outputs": []
    },
    {
      "cell_type": "code",
      "source": [
        "# Ví dụ khai báo hai biến a và b (Dấu cách cũng được tính là 1 ký tự)\n",
        "a = \"Hello\"\n",
        "b = \"anh em đoàn kết\"\n",
        "\n",
        "# Ví dụ truy cập một ký tự trong chuỗi thông qua chỉ số \n",
        "# Ký tự đầu tiên của chuỗi a (Ký tự đầu tiên trong một chuỗi sẽ bắt đầu bằng 0)\n",
        "print(a[0]) # H\n",
        "# In ra ký tự cuối cùng của chuỗi a (Ký tự cuối cùng trong một chuỗi sẽ bắt đầu bằng -1)\n",
        "print(a[-1]) # o\n",
        "# In ra ký tự thứ 3 của chuỗi b (Dấu cách (space) cũng được tính là 1 ký tự)\n",
        "print(b[3]) # \n",
        "\n",
        "# Ví dụ kiểm tra độ dài chuỗi a bằng hàm len() --(Kiểm tra xem chuỗi a có bao nhiêu ký tự)\n",
        "print(len(a))\n",
        "# Kiểm tra xem chuỗi con \"anh\" có thuộc chuỗi b hay không \n",
        "print(\"anh\" in b)\n",
        "\n",
        "# Cắt ra một chuỗi con từ vị trí index 4 đến vị trí index 6 trong chuỗi b (Dấu cách cũng được tính là 1 ký tự)\n",
        "print(b[4:6])\n",
        "# Cắt ra một chuỗi con từ ký tự đầu tiên tới ký tự thứ 6 trong list b\n",
        "print(b[:6])\n",
        "# Cắt ra một chuỗi con từ ký tự thứ 7 tới ký tự cuối cùng trong list b\n",
        "print(b[7:])\n",
        "\n",
        "# Nối hai chuỗi x và y gán vào biến z\n",
        "x = \"I love\"\n",
        "y = \" you\"\n",
        "z = x + y\n",
        "print(z)"
      ],
      "metadata": {
        "id": "cMxZ533zQOBN"
      },
      "execution_count": null,
      "outputs": []
    }
  ]
}