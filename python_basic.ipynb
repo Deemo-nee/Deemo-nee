{
  "nbformat": 4,
  "nbformat_minor": 0,
  "metadata": {
    "colab": {
      "name": "python_basic.ipynb",
      "provenance": [],
      "collapsed_sections": [],
      "authorship_tag": "ABX9TyNo/9rbBvcqg+i0VPs4890g",
      "include_colab_link": true
    },
    "kernelspec": {
      "name": "python3",
      "display_name": "Python 3"
    },
    "language_info": {
      "name": "python"
    }
  },
  "cells": [
    {
      "cell_type": "markdown",
      "metadata": {
        "id": "view-in-github",
        "colab_type": "text"
      },
      "source": [
        "<a href=\"https://colab.research.google.com/github/Deemo-nee/Python_basic/blob/main/python_basic.ipynb\" target=\"_parent\"><img src=\"https://colab.research.google.com/assets/colab-badge.svg\" alt=\"Open In Colab\"/></a>"
      ]
    },
    {
      "cell_type": "code",
      "execution_count": null,
      "metadata": {
        "id": "60cCQDHlxv-n"
      },
      "outputs": [],
      "source": [
        "# Sử dụng câu lệnh print() để in dòng \"Hello World\" ra màn hình\n",
        "print('Hello World')"
      ]
    },
    {
      "cell_type": "markdown",
      "source": [
        "1: Trong python chúng ta có thể sử dụng hàm *input()* để lấy các giá trị từ người dùng và sử dụng *print()* để hiển thị những thông tin đó ra màn hình.\n",
        "\n"
      ],
      "metadata": {
        "id": "3uZ-tG4N2Z87"
      }
    },
    {
      "cell_type": "code",
      "source": [
        "# Sử dụng hàm input() để nhập vào dữ liệu dưới kiểu chuỗi (string)\n",
        "fullname = input('Nhap vao ten cua ban:')\n",
        "# Hiển thị kết quả từ biến fullname do bạn nhập vào\n",
        "print('Tên của bạn là: ' + fullname)"
      ],
      "metadata": {
        "id": "_tpYVnULyQyh"
      },
      "execution_count": null,
      "outputs": []
    },
    {
      "cell_type": "code",
      "source": [
        "# Nhập dữ liệu kiểu chuỗi và chuyển đổi thành kiểu số nguyên (int) --Ép kiểu--\n",
        "x = int(input('Nhập vào số x: '))\n",
        "y = int(input('Nhập vào số y: '))\n",
        "# Tính tổng 2 số x và y do người dùng nhập vào và gán biến là z\n",
        "z = x + y \n",
        "# In kết quả của biến z ra màn hình\n",
        "print('x + y = {0}'.format(z))"
      ],
      "metadata": {
        "id": "LNSgiWyLy7AC"
      },
      "execution_count": null,
      "outputs": []
    },
    {
      "cell_type": "markdown",
      "source": [
        "2: ***Biến*** trong python là đơn vị lưu trữ cơ bản trong một chương trình python, một biến được khởi tạo tại thời điểm lần đầu tiên khi mà chúng ta gán một giá trị cho nó. Một biến hoàn toàn có thể được thay đổi trong quá trình thực thi chương trình.\n"
      ],
      "metadata": {
        "id": "pF4ZGIoL22yO"
      }
    },
    {
      "cell_type": "code",
      "source": [
        "# Ví dụ chúng ta khai báo các biến a, b, c, d\n",
        "a = 5\n",
        "b = 0.5\n",
        "c = \"Hello anh em\"\n",
        "d = True\n",
        "\n",
        "# Ngoài ra chúng ta có thể khai báo nhiều biến có chung một giá trị\n",
        "# Ví dụ khai báo biến x, y, z có chung giá trị là 10\n",
        "x = y = z = 10\n",
        "\n",
        "# In ra các giá trị của các biến\n",
        "print(a)\n",
        "print(b)\n",
        "print(c)\n",
        "print(d)\n",
        "print(x, y, z) # In ra trên cùng 1 hàng"
      ],
      "metadata": {
        "id": "QoF0oHlf2UMj"
      },
      "execution_count": null,
      "outputs": []
    },
    {
      "cell_type": "markdown",
      "source": [
        "3: ***Biến toàn cục*** là biến nằm bên ngoài các hàm, các lớp và chúng có thể sử ụng bất kì đâu trong chương trình"
      ],
      "metadata": {
        "id": "HOc2eQqw5ouz"
      }
    },
    {
      "cell_type": "code",
      "source": [
        "# Khai báo biến toàn cục và sử dụng nó trong hàm\n",
        "name = \"This is my name\"\n",
        "# Khởi tạo hàm def\n",
        "def Hello():\n",
        "  # Sử dụng biến toàn cục trong hàm\n",
        "  print(\"Xin chào:\" + name)"
      ],
      "metadata": {
        "id": "6BO6P2J250CT"
      },
      "execution_count": null,
      "outputs": []
    },
    {
      "cell_type": "markdown",
      "source": [
        "4: ***Kiểu dữ liệu*** trong Python được xem là các mục phân loại dữ liệu. Nó đại diện cho loại giá trị đang thao tác và cho biết những thao tác nào có thể thực hiện được trên kiểu dữ liệu đó. Một vài kiểu dữ liệu: str, int, float_ complex, list, tuple_ range, dict, bool. \n"
      ],
      "metadata": {
        "id": "ZZETGoto7VSd"
      }
    },
    {
      "cell_type": "code",
      "source": [
        "# Khai báo các kiểu dữ liệu\n",
        "# Biến a với kiểu dữ liệu int\n",
        "a = 10\n",
        "# Biến b với kiểu dữ liệu float\n",
        "b = 5.5\n",
        "# Biến c với kiểu dữ liệu str\n",
        "c = \"Hello các bạn\"\n",
        "# Biến d với kiểu dữ liệu bool\n",
        "d = True\n",
        "\n",
        "# Sử dụng hàm type() để xác định kiểu của các dữ liệu và sử dụng câu lệnh print() để in chúng ra màn hình\n",
        "print(type(a))\n",
        "print(type(b))\n",
        "print(type(c))\n",
        "print(type(d))"
      ],
      "metadata": {
        "id": "sYqM9kxB8ghw"
      },
      "execution_count": null,
      "outputs": []
    },
    {
      "cell_type": "code",
      "source": [
        "# Ép kiểu trong Python\n",
        "# Ví dụ ép kiểu str trong biến a, b thành kiểu int và thực hiện phép tính\n",
        "a = \"10\"\n",
        "b = \"15\"\n",
        "c = int(a) + int(b)\n",
        "print (c)"
      ],
      "metadata": {
        "id": "5vtAVyb79V8Q"
      },
      "execution_count": null,
      "outputs": []
    },
    {
      "cell_type": "code",
      "source": [
        "# Ép kiểu int thành kiểu str và in ra màn hình\n",
        "age = 15\n",
        "tuoi = str(age)\n",
        "print(\"Tôi năm nay:\", tuoi, \"tuổi\")"
      ],
      "metadata": {
        "id": "1gQdQcA29tZv"
      },
      "execution_count": null,
      "outputs": []
    },
    {
      "cell_type": "markdown",
      "source": [
        "5: ***Kiểu dữ liệu số*** trong Python bao gồm 3 kiểu: *int, float, complex*"
      ],
      "metadata": {
        "id": "XaG_gcV6_O3R"
      }
    },
    {
      "cell_type": "code",
      "source": [
        "# Kiểu dữ liệu int là kiểu dữ liệu số nguyên có thể là một số âm hoặc dương với độ dài không giới hạn\n",
        "# Ví dụ với các kiểu số nguyên\n",
        "a = 5\n",
        "b = -10\n",
        "c = 1293182931\n",
        "\n",
        "# Thử kiểm tra xem 3 số a, b, c thuộc kiểu nào\n",
        "print(type(a))\n",
        "print(type(b))\n",
        "print(type(c))"
      ],
      "metadata": {
        "id": "tgzhmfNG-H-O"
      },
      "execution_count": null,
      "outputs": []
    },
    {
      "cell_type": "code",
      "source": [
        "# Kiểu dữ liệu float là một số thực, số này cũng có thể là một số ấm hoặc dương chứa một hoặc nhiều số thập phân \n",
        "# Ví dụ khai báo các kiểu số thực với các biến\n",
        "x = 13.15\n",
        "y = -22.1532\n",
        "# Kiểm tra kiểu dữ liệu của 2 biến x và y\n",
        "print(type(x))\n",
        "print(type(y))"
      ],
      "metadata": {
        "id": "RNxy7iz__JG9"
      },
      "execution_count": null,
      "outputs": []
    },
    {
      "cell_type": "code",
      "source": [
        "# Kiểu dữ liệu complex là một số phức được viết với kí tự \"j\" là phần ảo của số phức\n",
        "# Số phức trong Python có dạng a + bj --Phần thực của số phức là a và phần ảo của số phức là b\n",
        "# Ví dụ khai báo các kiểu dữ liệu số phức \n",
        "m = 2 + 3j\n",
        "n = -3j\n",
        "k = -3 - 5j\n",
        "# Kiểm tra kiểu dữ liệu của 3 biến trên\n",
        "print(type(m))\n",
        "print(type(n))\n",
        "print(type(k))"
      ],
      "metadata": {
        "id": "e9Op7XCfAqU3"
      },
      "execution_count": null,
      "outputs": []
    },
    {
      "cell_type": "markdown",
      "source": [
        "6: Kiểu dữ liệu Boolean trong Python là kiểu dữ liệu đại diện cho một trong hai giá trị là: True hoặc False (Chỉ đúng hoặc sai)\n",
        "- Chúng ta có thể sử dụng Boolean để làm hàm đánh giá giá trị đúng hoặc sai, kiểm tra, so sánh giữa các biểu thức"
      ],
      "metadata": {
        "id": "VyA9GD2vCZnW"
      }
    },
    {
      "cell_type": "code",
      "source": [
        "# Ví dụ kiểm tra xem các kết quả của giá trị trên và in ra màn hình đúng hay sai\n",
        "print(15 == 10)\n",
        "print(15 > 10)\n",
        "print(15 < 10)"
      ],
      "metadata": {
        "id": "Y4ngpEl-C3tx"
      },
      "execution_count": null,
      "outputs": []
    },
    {
      "cell_type": "code",
      "source": [
        "# Kiểu Boolean cũng được sử dụng trong câu điều kiện If else\n",
        "# Kiểm tra xem nếu đúng sẽ thực thi câu lệnh với điều kiện đúng sai thì thực thi câu lệnh với điều kiện sai\n",
        "\n",
        "# Ví dụ khai báo hai biến a và b kiểm tra xem giá trị nào lớn hơn\n",
        "a = 100\n",
        "b = 500\n",
        "if a > b:\n",
        "  print(\"a lớn hơn b\")\n",
        "else:\n",
        "  print(\"a nhỏ hơn b\")"
      ],
      "metadata": {
        "id": "eGCnbb3BEAa-"
      },
      "execution_count": null,
      "outputs": []
    },
    {
      "cell_type": "code",
      "source": [
        "# Boolean còn được sử dụng làm giá trị trả về cho hàm, một hàm có thể trả về giá trị True hoặc False\n",
        "# Ví dụ khởi tạo hàm Hello() và trả về giá trị True \n",
        "def Hello():\n",
        "  return True\n",
        "# Nếu hàm Hello() trả về giá trị True thì in ra \"Hello!\"\n",
        "if Hello() == True:\n",
        "  print(\"hello!\")\n",
        "# Ngược lại nếu hàm Hello() không trả về giá trị True thì in ra mà hình \"Oops\"\n",
        "else: \n",
        "  print(\"Oops\")"
      ],
      "metadata": {
        "id": "KMCkPemDFLWs"
      },
      "execution_count": null,
      "outputs": []
    },
    {
      "cell_type": "markdown",
      "source": [
        "7: Toán tử số học trong Python là các phép toán và các ký hiệu tương ứng bên phải: cộng +, trừ -, nhân *, chia /, chia lấy dư %, lũy thừa của 2 số a và b (a mũ b) --Kí hiệu lũy thừa a và b là 2 dấu nhân--"
      ],
      "metadata": {
        "id": "aR1EGnZDGSFC"
      }
    },
    {
      "cell_type": "code",
      "source": [
        "# Ví dụ về các toán tử số học\n",
        "# Khai báo 2 biến a và b là 2 số nguyên\n",
        "a = 5\n",
        "b = 9\n",
        "\n",
        "# Cộng hai số a và b\n",
        "add = a + b\n",
        "# Trừ hai số a và b \n",
        "sub = a - b\n",
        "# Nhân hai số a và b \n",
        "mul = a * b\n",
        "# Chia hai số a và b\n",
        "div = a / b\n",
        "# Chia lấy phần dư giữa 2 số a và b\n",
        "mod = a % b\n",
        "# Lũy thừa của a và b (a mũ b)\n",
        "p = a ** b\n",
        "\n",
        "# In kết quả ra màn hình\n",
        "print(add)\n",
        "print(sub)\n",
        "print(mul)\n",
        "print(div)\n",
        "print(mod)\n",
        "print(p)"
      ],
      "metadata": {
        "id": "87qJhjg_GPUm"
      },
      "execution_count": null,
      "outputs": []
    },
    {
      "cell_type": "markdown",
      "source": [
        "8: Toán tử gán trong Python được sử dụng để gán giá trị trong các biến. Các phép gán có thể là gán hai biến băng nhau, gán cộng bằng, gán nhân bằng, gán chia bằng..."
      ],
      "metadata": {
        "id": "-hH91TuQ_1r3"
      }
    },
    {
      "cell_type": "code",
      "source": [
        "# Gán x = 6 và y = 3\n",
        "x = 6\n",
        "y = 3\n",
        "# In kết quả ra màn hình \n",
        "print (x, y)"
      ],
      "metadata": {
        "id": "5IOfimyq-Z4t"
      },
      "execution_count": null,
      "outputs": []
    }
  ]
}