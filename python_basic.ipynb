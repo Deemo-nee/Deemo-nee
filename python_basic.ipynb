{
  "nbformat": 4,
  "nbformat_minor": 0,
  "metadata": {
    "colab": {
      "name": "python_basic.ipynb",
      "provenance": [],
      "collapsed_sections": [
        "EsPIkfzRElhb",
        "HyjC4Vx2EgVY",
        "v32ibPEaDiIn"
      ],
      "authorship_tag": "ABX9TyP1CMsarD5ynPucZCt/zwmU",
      "include_colab_link": true
    },
    "kernelspec": {
      "name": "python3",
      "display_name": "Python 3"
    },
    "language_info": {
      "name": "python"
    }
  },
  "cells": [
    {
      "cell_type": "markdown",
      "metadata": {
        "id": "view-in-github",
        "colab_type": "text"
      },
      "source": [
        "<a href=\"https://colab.research.google.com/github/Deemo-nee/Python_basic/blob/main/python_basic.ipynb\" target=\"_parent\"><img src=\"https://colab.research.google.com/assets/colab-badge.svg\" alt=\"Open In Colab\"/></a>"
      ]
    },
    {
      "cell_type": "markdown",
      "source": [
        "# Các câu lệnh Python cơ bản"
      ],
      "metadata": {
        "id": "EsPIkfzRElhb"
      }
    },
    {
      "cell_type": "code",
      "execution_count": null,
      "metadata": {
        "id": "60cCQDHlxv-n"
      },
      "outputs": [],
      "source": [
        "# Sử dụng câu lệnh print() để in dòng \"Hello World\" ra màn hình\n",
        "print('Hello World')"
      ]
    },
    {
      "cell_type": "markdown",
      "source": [
        "Trong python chúng ta có thể sử dụng hàm *input()* để lấy các giá trị từ người dùng và sử dụng *print()* để hiển thị những thông tin đó ra màn hình.\n",
        "\n"
      ],
      "metadata": {
        "id": "3uZ-tG4N2Z87"
      }
    },
    {
      "cell_type": "code",
      "source": [
        "# Sử dụng hàm input() để nhập vào dữ liệu dưới kiểu chuỗi (string)\n",
        "fullname = input('Nhap vao ten cua ban:')\n",
        "# Hiển thị kết quả từ biến fullname do bạn nhập vào\n",
        "print('Tên của bạn là: ' + fullname)"
      ],
      "metadata": {
        "id": "_tpYVnULyQyh"
      },
      "execution_count": null,
      "outputs": []
    },
    {
      "cell_type": "code",
      "source": [
        "# Nhập dữ liệu kiểu chuỗi và chuyển đổi thành kiểu số nguyên (int) --Ép kiểu--\n",
        "x = int(input('Nhập vào số x: '))\n",
        "y = int(input('Nhập vào số y: '))\n",
        "# Tính tổng 2 số x và y do người dùng nhập vào và gán biến là z\n",
        "z = x + y \n",
        "# In kết quả của biến z ra màn hình\n",
        "print('x + y = {0}'.format(z))"
      ],
      "metadata": {
        "id": "LNSgiWyLy7AC"
      },
      "execution_count": null,
      "outputs": []
    },
    {
      "cell_type": "markdown",
      "source": [
        "# Biến\n"
      ],
      "metadata": {
        "id": "HyjC4Vx2EgVY"
      }
    },
    {
      "cell_type": "markdown",
      "source": [
        "***Biến*** trong python là đơn vị lưu trữ cơ bản trong một chương trình python, một biến được khởi tạo tại thời điểm lần đầu tiên khi mà chúng ta gán một giá trị cho nó. Một biến hoàn toàn có thể được thay đổi trong quá trình thực thi chương trình.\n"
      ],
      "metadata": {
        "id": "pF4ZGIoL22yO"
      }
    },
    {
      "cell_type": "code",
      "source": [
        "# Ví dụ chúng ta khai báo các biến a, b, c, d\n",
        "a = 5\n",
        "b = 0.5\n",
        "c = \"Hello anh em\"\n",
        "d = True\n",
        "\n",
        "# Ngoài ra chúng ta có thể khai báo nhiều biến có chung một giá trị\n",
        "# Ví dụ khai báo biến x, y, z có chung giá trị là 10\n",
        "x = y = z = 10\n",
        "\n",
        "# In ra các giá trị của các biến\n",
        "print(a)\n",
        "print(b)\n",
        "print(c)\n",
        "print(d)\n",
        "print(x, y, z) # In ra trên cùng 1 hàng"
      ],
      "metadata": {
        "id": "QoF0oHlf2UMj"
      },
      "execution_count": null,
      "outputs": []
    },
    {
      "cell_type": "markdown",
      "source": [
        "***Biến toàn cục*** là biến nằm bên ngoài các hàm, các lớp và chúng có thể sử ụng bất kì đâu trong chương trình"
      ],
      "metadata": {
        "id": "HOc2eQqw5ouz"
      }
    },
    {
      "cell_type": "code",
      "source": [
        "# Khai báo biến toàn cục và sử dụng nó trong hàm\n",
        "name = \"This is my name\"\n",
        "# Khởi tạo hàm def\n",
        "def Hello():\n",
        "  # Sử dụng biến toàn cục trong hàm\n",
        "  print(\"Xin chào:\" + name)"
      ],
      "metadata": {
        "id": "6BO6P2J250CT"
      },
      "execution_count": null,
      "outputs": []
    },
    {
      "cell_type": "markdown",
      "source": [
        "# Kiểu dữ liệu"
      ],
      "metadata": {
        "id": "Whxqm0W1ERkx"
      }
    },
    {
      "cell_type": "markdown",
      "source": [
        "***Kiểu dữ liệu*** trong Python được xem là các mục phân loại dữ liệu. Nó đại diện cho loại giá trị đang thao tác và cho biết những thao tác nào có thể thực hiện được trên kiểu dữ liệu đó. Một vài kiểu dữ liệu: str, int, float_ complex, list, tuple_ range, dict, bool. \n"
      ],
      "metadata": {
        "id": "ZZETGoto7VSd"
      }
    },
    {
      "cell_type": "code",
      "source": [
        "# Khai báo các kiểu dữ liệu\n",
        "# Biến a với kiểu dữ liệu int\n",
        "a = 10\n",
        "# Biến b với kiểu dữ liệu float\n",
        "b = 5.5\n",
        "# Biến c với kiểu dữ liệu str\n",
        "c = \"Hello các bạn\"\n",
        "# Biến d với kiểu dữ liệu bool\n",
        "d = True\n",
        "\n",
        "# Sử dụng hàm type() để xác định kiểu của các dữ liệu và sử dụng câu lệnh print() để in chúng ra màn hình\n",
        "print(type(a))\n",
        "print(type(b))\n",
        "print(type(c))\n",
        "print(type(d))"
      ],
      "metadata": {
        "id": "sYqM9kxB8ghw"
      },
      "execution_count": null,
      "outputs": []
    },
    {
      "cell_type": "code",
      "source": [
        "# Ép kiểu trong Python\n",
        "# Ví dụ ép kiểu str trong biến a, b thành kiểu int và thực hiện phép tính\n",
        "a = \"10\"\n",
        "b = \"15\"\n",
        "c = int(a) + int(b)\n",
        "print (c)"
      ],
      "metadata": {
        "id": "5vtAVyb79V8Q"
      },
      "execution_count": null,
      "outputs": []
    },
    {
      "cell_type": "code",
      "source": [
        "# Ép kiểu int thành kiểu str và in ra màn hình\n",
        "age = 15\n",
        "tuoi = str(age)\n",
        "print(\"Tôi năm nay:\", tuoi, \"tuổi\")"
      ],
      "metadata": {
        "id": "1gQdQcA29tZv"
      },
      "execution_count": null,
      "outputs": []
    },
    {
      "cell_type": "markdown",
      "source": [
        "***Kiểu dữ liệu số*** trong Python bao gồm 3 kiểu: *int, float, complex*"
      ],
      "metadata": {
        "id": "XaG_gcV6_O3R"
      }
    },
    {
      "cell_type": "code",
      "source": [
        "# Kiểu dữ liệu int là kiểu dữ liệu số nguyên có thể là một số âm hoặc dương với độ dài không giới hạn\n",
        "# Ví dụ với các kiểu số nguyên\n",
        "a = 5\n",
        "b = -10\n",
        "c = 1293182931\n",
        "\n",
        "# Thử kiểm tra xem 3 số a, b, c thuộc kiểu nào\n",
        "print(type(a))\n",
        "print(type(b))\n",
        "print(type(c))"
      ],
      "metadata": {
        "id": "tgzhmfNG-H-O"
      },
      "execution_count": null,
      "outputs": []
    },
    {
      "cell_type": "code",
      "source": [
        "# Kiểu dữ liệu float là một số thực, số này cũng có thể là một số ấm hoặc dương chứa một hoặc nhiều số thập phân \n",
        "# Ví dụ khai báo các kiểu số thực với các biến\n",
        "x = 13.15\n",
        "y = -22.1532\n",
        "# Kiểm tra kiểu dữ liệu của 2 biến x và y\n",
        "print(type(x))\n",
        "print(type(y))"
      ],
      "metadata": {
        "id": "RNxy7iz__JG9"
      },
      "execution_count": null,
      "outputs": []
    },
    {
      "cell_type": "code",
      "source": [
        "# Kiểu dữ liệu complex là một số phức được viết với kí tự \"j\" là phần ảo của số phức\n",
        "# Số phức trong Python có dạng a + bj --Phần thực của số phức là a và phần ảo của số phức là b\n",
        "# Ví dụ khai báo các kiểu dữ liệu số phức \n",
        "m = 2 + 3j\n",
        "n = -3j\n",
        "k = -3 - 5j\n",
        "# Kiểm tra kiểu dữ liệu của 3 biến trên\n",
        "print(type(m))\n",
        "print(type(n))\n",
        "print(type(k))"
      ],
      "metadata": {
        "id": "e9Op7XCfAqU3"
      },
      "execution_count": null,
      "outputs": []
    },
    {
      "cell_type": "markdown",
      "source": [
        "***Kiểu dữ liệu Boolean*** trong Python là kiểu dữ liệu đại diện cho một trong hai giá trị là: True hoặc False (Chỉ đúng hoặc sai)\n",
        "- Chúng ta có thể sử dụng Boolean để làm hàm đánh giá giá trị đúng hoặc sai, kiểm tra, so sánh giữa các biểu thức"
      ],
      "metadata": {
        "id": "VyA9GD2vCZnW"
      }
    },
    {
      "cell_type": "code",
      "source": [
        "# Ví dụ kiểm tra xem các kết quả của giá trị trên và in ra màn hình đúng hay sai\n",
        "print(15 == 10)\n",
        "print(15 > 10)\n",
        "print(15 < 10)"
      ],
      "metadata": {
        "id": "Y4ngpEl-C3tx"
      },
      "execution_count": null,
      "outputs": []
    },
    {
      "cell_type": "code",
      "source": [
        "# Kiểu Boolean cũng được sử dụng trong câu điều kiện If else\n",
        "# Kiểm tra xem nếu đúng sẽ thực thi câu lệnh với điều kiện đúng sai thì thực thi câu lệnh với điều kiện sai\n",
        "\n",
        "# Ví dụ khai báo hai biến a và b kiểm tra xem giá trị nào lớn hơn\n",
        "a = 100\n",
        "b = 500\n",
        "if a > b:\n",
        "  print(\"a lớn hơn b\")\n",
        "else:\n",
        "  print(\"a nhỏ hơn b\")"
      ],
      "metadata": {
        "id": "eGCnbb3BEAa-"
      },
      "execution_count": null,
      "outputs": []
    },
    {
      "cell_type": "code",
      "source": [
        "# Boolean còn được sử dụng làm giá trị trả về cho hàm, một hàm có thể trả về giá trị True hoặc False\n",
        "# Ví dụ khởi tạo hàm Hello() và trả về giá trị True \n",
        "def Hello():\n",
        "  return True\n",
        "# Nếu hàm Hello() trả về giá trị True thì in ra \"Hello!\"\n",
        "if Hello() == True:\n",
        "  print(\"hello!\")\n",
        "# Ngược lại nếu hàm Hello() không trả về giá trị True thì in ra mà hình \"Oops\"\n",
        "else: \n",
        "  print(\"Oops\")"
      ],
      "metadata": {
        "id": "KMCkPemDFLWs"
      },
      "execution_count": null,
      "outputs": []
    },
    {
      "cell_type": "markdown",
      "source": [
        "# Toán tử số học"
      ],
      "metadata": {
        "id": "kM9uhr_kD1Nf"
      }
    },
    {
      "cell_type": "markdown",
      "source": [
        "***Toán tử số học*** trong Python là các phép toán và các ký hiệu tương ứng bên phải: cộng +, trừ -, nhân *, chia /, chia lấy dư %, lũy thừa của 2 số a và b (a mũ b) --Kí hiệu lũy thừa a và b là 2 dấu nhân--"
      ],
      "metadata": {
        "id": "aR1EGnZDGSFC"
      }
    },
    {
      "cell_type": "code",
      "source": [
        "# Ví dụ về các toán tử số học\n",
        "# Khai báo 2 biến a và b là 2 số nguyên\n",
        "a = 5\n",
        "b = 9\n",
        "\n",
        "# Cộng hai số a và b\n",
        "add = a + b\n",
        "# Trừ hai số a và b \n",
        "sub = a - b\n",
        "# Nhân hai số a và b \n",
        "mul = a * b\n",
        "# Chia hai số a và b\n",
        "div = a / b\n",
        "# Chia lấy phần dư giữa 2 số a và b\n",
        "mod = a % b\n",
        "# Lũy thừa của a và b (a mũ b)\n",
        "p = a ** b\n",
        "\n",
        "# In kết quả ra màn hình\n",
        "print(add)\n",
        "print(sub)\n",
        "print(mul)\n",
        "print(div)\n",
        "print(mod)\n",
        "print(p)"
      ],
      "metadata": {
        "id": "87qJhjg_GPUm"
      },
      "execution_count": null,
      "outputs": []
    },
    {
      "cell_type": "markdown",
      "source": [
        "# Toán tử gán\n"
      ],
      "metadata": {
        "id": "v32ibPEaDiIn"
      }
    },
    {
      "cell_type": "markdown",
      "source": [
        "***Toán tử gán*** trong Python được sử dụng để gán giá trị trong các biến. Các phép gán có thể là gán hai biến băng nhau, gán cộng bằng, gán nhân bằng, gán chia bằng..."
      ],
      "metadata": {
        "id": "-hH91TuQ_1r3"
      }
    },
    {
      "cell_type": "code",
      "source": [
        "# Gán x = 6 và y = 3\n",
        "x = 6\n",
        "y = 3\n",
        "# In kết quả ra màn hình \n",
        "print (x, y)\n",
        "\n",
        "# Toán tử gán cộng bằng -- \"x += y\" tương đương với \"x = x + y\"\n",
        "x += y\n",
        "print(\"x =\",x) #print(\"x = {0}\".format(x))\n",
        "\n",
        "# Toán tử gán trừ bằng -- \"x -= y\" tương đương với \"x = x - y\"\n",
        "x -= y\n",
        "print(\"x = {0}\".format(x))\n",
        "\n",
        "# Toán tử gán nhân bằng -- \"x *= y\" tương đương với \"x = x * y\"\n",
        "x *= y\n",
        "print(\"x = {0}\".format(x))\n",
        "\n",
        "# Toán tử gán chia bằng -- \"x /= y\" tương đương với \"x = x / y\"\n",
        "x /= y\n",
        "print(\"x = {0}\".format(x))\n",
        "\n",
        "# Toán tử gán chia lấy dư -- \"x %= y\" tương đương với \"x = x % y\"\n",
        "x %= y\n",
        "print(\"x = {0}\".format(x))\n",
        "\n",
        "# Toán tử gán lũy thừa x mũ y -- \"x **= y\" tương đương với \"x = x ** y\"\n",
        "x **= y\n",
        "print(\"x = {0}\".format(x))\n"
      ],
      "metadata": {
        "id": "5IOfimyq-Z4t"
      },
      "execution_count": null,
      "outputs": []
    },
    {
      "cell_type": "markdown",
      "source": [
        "# Toán tử\n"
      ],
      "metadata": {
        "id": "WFr-4GCBDcqS"
      }
    },
    {
      "cell_type": "markdown",
      "source": [
        "***Toán tử so sánh*** trong Python được sử dụng để so sánh giữa 2 giá trị hoặc so sánh tính đúng sái giữa hai mệnh đề."
      ],
      "metadata": {
        "id": "i9LCCVaiC_x_"
      }
    },
    {
      "cell_type": "code",
      "source": [
        "# Toán tử so sánh ==, !=, >, <, >=, <=\n",
        "a = 5\n",
        "b = 10\n",
        "\n",
        "# So sánh a có bằng b không \n",
        "print(\"a = b: {0}\".format(a == b))\n",
        "# So sánh a có khác b không \n",
        "print(\"a != b: {0}\".format(a != b))\n",
        "# So sánh a có lớn hơn b không \n",
        "print(\"a > b: {0}\".format(a > b))\n",
        "# So sánh a có nhỏ hơn b không \n",
        "print(\"a < b: {0}\".format(a < b))\n",
        "# So sánh a có nhỏ hơn hoặc băng b không \n",
        "print(\"a <= b: {0}\".format(a <= b))\n",
        "# So sánh a có lớn hơn hoặc bằng b không \n",
        "print(\"a >= b: {0}\".format(a >= b))"
      ],
      "metadata": {
        "id": "kVTq6-pQA234"
      },
      "execution_count": null,
      "outputs": []
    },
    {
      "cell_type": "markdown",
      "source": [
        "***Toán tử logic*** trong Python thường được sử dụng kèm theo với câu điều kiện để kiểm tra tính đúng sai giữa hai hay nhiều mệnh đề. Các toán tử này sẽ là: and, or, not."
      ],
      "metadata": {
        "id": "ckiFl0hYGMXX"
      }
    },
    {
      "cell_type": "code",
      "source": [
        "# Toán tử and trả về True nếu cả 2 mệnh đề cần so sánh đồng thời là true (Cả hai đều phải đúng)\n",
        "x = 5\n",
        "# Kiểm tra tính đúng sai của 2 mệnh đề băng toán từ \"and\"\n",
        "print(\"x < 10 và x < 15 là:\", (x < 10 and x < 15))\n",
        "\n",
        "# Toán tử or trả về True nếu tồn tại 1 TRONG 2 HOẶC CẢ 2 mệnh đề cần so sánh là True \n",
        "# Kiểm tra tính đúng sai của 2 mệnh đề bằng toán tử \"or\"\n",
        "print(\"x < 1 or x < 15 là:\", (x < 1 or x < 15))\n",
        "\n",
        "# Toán tử not trả về phủ định của một mệnh đề. Biến mệnh đề đúng thành sai và ngược lại\n",
        "# Kiểm tra tính đúng sai của 2 mệnh đề bằng toán tử \"not\"\n",
        "print(\"not(x < 10 and < 15 là):\", not(x < 10 and x < 15))\n"
      ],
      "metadata": {
        "id": "I97y14uDGjFa"
      },
      "execution_count": null,
      "outputs": []
    },
    {
      "cell_type": "markdown",
      "source": [
        "***Toán tử nhận dạng*** trong Python được sử dụng để kiểm tra các phần tử con, kiểm tra dựa vào việc các phần tử con có thuộc một đối tượng cha hay không? các toán tử con bao gồm: is, not is"
      ],
      "metadata": {
        "id": "zCrwQdbMIms0"
      }
    },
    {
      "cell_type": "code",
      "source": [
        "# Toán tử \"is\" trả về true nếu cả hai biến cùng là một đối tượng\n",
        "# Khai báo danh sách x và y\n",
        "x = [\"a\", \"b\", \"c\"]\n",
        "x = [\"chó\", \"lợn\", \"gà\"]\n",
        "\n",
        "# Gán z bằng list x\n",
        "z = x\n",
        "# Kiểm tra x có phải là đối tượng z hay không\n",
        "print(\"x is z:\", (x is z))\n",
        "# Kiểm tra x có phải là đối tượng y hay không\n",
        "print(\"x is y:\", (x is y))\n",
        "\n",
        "# Toán tử \"is not\" trả về True nếu cả hai biến đều không cùng là một đối tượng \n",
        "# Kiểm tra x không phải là z đúng hay sai\n",
        "print(\"x is not z:\", (x is not z))\n",
        "# Kiểm tra x không phải là y đúng hay sai\n",
        "print(\"x is not y:\", (x is not y))\n"
      ],
      "metadata": {
        "id": "C59jGc6MI_cs"
      },
      "execution_count": null,
      "outputs": []
    },
    {
      "cell_type": "markdown",
      "source": [
        "***Các toán tử thành viên*** trong Python được sử dụng để kiểm tra xem một chuỗi con nào đó có thuột chuỗi cha nào đó hay không? các toán tử bao gồm: in, not in "
      ],
      "metadata": {
        "id": "4ILHWhjKKXqM"
      }
    },
    {
      "cell_type": "code",
      "source": [
        "# Toán tử \"in\" trả về True nếu như một chuỗi con thuộc một đối tượng cần kiểm tra\n",
        "# Khai báo list x\n",
        "x = [\"cho\", \"ga\", \"lon\"]\n",
        "# Khai báo biến con y và z\n",
        "y = \"ga\"\n",
        "z = \"cá\"\n",
        "\n",
        "# Kiểm tra chuỗi y có nằm trong list x hay không \n",
        "print(\"y in x: {0}\".format(y in x))\n",
        "# Kiểm tra chuỗi z có nằm trong list x hay không \n",
        "print(\"z in x: {0}\".format(z in x))\n",
        "\n",
        "# Toán tử \"not in\" trả về True nếu như một chuỗi con không thuộc một đối tượng cần kiểm tra\n",
        "# ví dụ với list a\n",
        "a = [1, 2, 3, 4, 5]\n",
        "b = 7\n",
        "\n",
        "# Kiểm tra chuỗi con b có KHÔNG NẰM TRONG list a hay không \n",
        "print(\"b not in a: {0}\".format(b not in a))\n",
        "\n",
        "c = 1\n",
        "# Kiểm tra chuỗi c có KHÔNG NẰM TRONG list a hay không \n",
        "print(\"c not in a: {0}\".format(c not in a))\n"
      ],
      "metadata": {
        "id": "Dr-9Nb4dKpN7"
      },
      "execution_count": null,
      "outputs": []
    },
    {
      "cell_type": "markdown",
      "source": [
        "# Kiểu dữ liệu string"
      ],
      "metadata": {
        "id": "dGrD1BgfPKpv"
      }
    },
    {
      "cell_type": "markdown",
      "source": [
        "***Kiểu dữ liệu strin***g trong Python là các ký tự hay một chuỗi các ký tự được đặt trong giấu nháy kép hoặc nháy đơn. Ví dự các chuỗi như: 'hello', \"Xin chào\""
      ],
      "metadata": {
        "id": "q3QBC3AUPJHp"
      }
    },
    {
      "cell_type": "code",
      "source": [
        "# Ví dụ khai báo hai biến a và b\n",
        "a = \"Hello\"\n",
        "b = \"anh em\"\n",
        "# In ra màn hình\n",
        "print(a)\n",
        "print(b)"
      ],
      "metadata": {
        "id": "pUeSGIdyPkkC"
      },
      "execution_count": null,
      "outputs": []
    },
    {
      "cell_type": "code",
      "source": [
        "# Ví dụ khai báo hai biến a và b (Dấu cách cũng được tính là 1 ký tự)\n",
        "a = \"Hello\"\n",
        "b = \"anh em đoàn kết\"\n",
        "\n",
        "# Ví dụ truy cập một ký tự trong chuỗi thông qua chỉ số \n",
        "# Ký tự đầu tiên của chuỗi a (Ký tự đầu tiên trong một chuỗi sẽ bắt đầu bằng 0)\n",
        "print(a[0]) # H\n",
        "# In ra ký tự cuối cùng của chuỗi a (Ký tự cuối cùng trong một chuỗi sẽ bắt đầu bằng -1)\n",
        "print(a[-1]) # o\n",
        "# In ra ký tự thứ 3 của chuỗi b (Dấu cách (space) cũng được tính là 1 ký tự)\n",
        "print(b[3]) # \n",
        "\n",
        "# Ví dụ kiểm tra độ dài chuỗi a bằng hàm len() --(Kiểm tra xem chuỗi a có bao nhiêu ký tự)\n",
        "print(len(a))\n",
        "# Kiểm tra xem chuỗi con \"anh\" có thuộc chuỗi b hay không \n",
        "print(\"anh\" in b)\n",
        "\n",
        "# Cắt ra một chuỗi con từ vị trí index 4 đến vị trí index 6 trong chuỗi b (Dấu cách cũng được tính là 1 ký tự)\n",
        "print(b[4:6])\n",
        "# Cắt ra một chuỗi con từ ký tự đầu tiên tới ký tự thứ 6 trong list b\n",
        "print(b[:6])\n",
        "# Cắt ra một chuỗi con từ ký tự thứ 7 tới ký tự cuối cùng trong list b\n",
        "print(b[7:])\n",
        "\n",
        "# Nối hai chuỗi x và y gán vào biến z\n",
        "x = \"I love\"\n",
        "y = \" you\"\n",
        "z = x + y\n",
        "print(z)"
      ],
      "metadata": {
        "id": "cMxZ533zQOBN"
      },
      "execution_count": null,
      "outputs": []
    },
    {
      "cell_type": "markdown",
      "source": [
        "***Một kiểu list*** (danh sách) trong Python là một biến được sử dụng để lưu trữ một tập hợp nhiều giá trị. Trong Python các giá trị được lưu trữ trong list không nhất thiết phải đồng nhất về kiểu dữ liệu."
      ],
      "metadata": {
        "id": "k3XS0V7A_13c"
      }
    },
    {
      "cell_type": "code",
      "source": [
        "from typing import List\n",
        "# Khai báo một ListA gồm nhiều phần tử \n",
        "ListA = [\"chó\", \"mèo\", \"lợn\", \"gà\", \"khỉ\"]\n",
        "# In ListA ra màn hình\n",
        "print(ListA)\n",
        "# Sử dụng hàm len() kiểm tra số lượng phần tử có trong ListA\n",
        "print(len(ListA))\n",
        "# Kiểm tra kiểu dữ liệu của ListA\n",
        "print(type(ListA))\n",
        "# Truy cập tới các phần tử có trong listA\n",
        "print(ListA[0]) # In ra phần tử đầu tiên\n",
        "print(ListA[-1]) # In ra phần tử cuối cùng\n",
        "print(ListA[3])  # In ra phần tử thứ 3 \n",
        "\n",
        "# Thêm phần tử vào ListA\n",
        "# thêm phần tử \"vịt\" vào cuối ListA\n",
        "ListA.append(\"vịt\")\n",
        "ListA.insert(1, \"minion\") # Chèn phần tử \"minion\" vào vị trí thứ 1 trong list\n",
        "print(ListA)\n",
        "\n",
        "# Thay đổi giá trị phần tử trong ListA\n",
        "ListA[2] = \"voi\" # Thay đổi giá trị thứ 2 trong listA thành \"voi\"\n",
        "print(ListA)\n",
        "\n",
        "# Duyệt qua các phần tử có trong ListA bằng vòng lặp \n",
        "for item in ListA:\n",
        "  print(item)\n",
        "\n",
        "# Sắp xếp các phần tử có trong listA theo thứ tự tăng dần\n",
        "ListA.sort() # sắp xếp listA theo bảng chữ cái từ A -> Z\n",
        "print(ListA)"
      ],
      "metadata": {
        "id": "J3Y67f7iAMpv"
      },
      "execution_count": null,
      "outputs": []
    },
    {
      "cell_type": "markdown",
      "source": [
        "# Kiểu Tuple "
      ],
      "metadata": {
        "id": "SmIn0I7oCo9A"
      }
    },
    {
      "cell_type": "markdown",
      "source": [
        "***Kiểu dữ liệu Tuple*** được sử dụng để lưu trữ các giá trị theo một thứ tự đã được sắp xếp nhất định và không thể được thay đổi. Tuy nhiên kiểu Tuple lại cho phép các phần tử mang giá trị trùng lặp."
      ],
      "metadata": {
        "id": "iTwESC3yCkXZ"
      }
    },
    {
      "cell_type": "code",
      "source": [
        "# Khai báo một Tuple A gồm 5 phần tử \n",
        "tupleA = (\"ô tô\", \"xe máy\", \"máy bay\", \"tàu thủy\", \"xe buýt\")\n",
        "print(tupleA)\n",
        "\n",
        "# Dùng hàm len() kiểm tra số lượng phần tử có trong tupleA\n",
        "print(len(tupleA))\n",
        "# Kiểm tra kiểu dữ liệu của tupleA\n",
        "print(type(tupleA))\n",
        "\n",
        "# Truy cập tới các phần tử có trong tupleA\n",
        "print(tupleA[0]) # In ra phần tử đầu tiên\n",
        "print(tupleA[-1]) # In ra phần tử cuối cùng\n",
        "print(tupleA[3])  # In ra phần tử thứ 3 \n",
        "\n",
        "# Lưu ý: Chúng ta không thể thêm, sửa, xóa phần tử thuộc Tuple thuy nhiên lại có thể chuyể Tuple sang kiểu List để thực hiện các thao tác trên, sáu đó đưa chúng trở lại thành Tuple\n",
        "# Chuyển đổi tupleA thành listA\n",
        "listA= list(tupleA)\n",
        "listA.append(\"xe đạp\")\n",
        "listA.insert(1, \"minion\") # Chèn phần tử \"minion\" vào vị trí thứ 1 trong list\n",
        "listA[0] = \"bánh quy\" # Thay phần tử đầu tiên trong list thành \"bánh quy\"\n",
        "print(listA)\n",
        "# Chuyển đổi lại listA thành tupleA\n",
        "tupleA = tuple(listA)\n",
        "# Duyệt các phần tử có trong tupleA bằng vòng lặp for\n",
        "for item in tupleA:\n",
        "  print(item)"
      ],
      "metadata": {
        "id": "LXFFXfKoDIUJ"
      },
      "execution_count": null,
      "outputs": []
    },
    {
      "cell_type": "markdown",
      "source": [
        "# Kiểu Set"
      ],
      "metadata": {
        "id": "KCljJtfoF611"
      }
    },
    {
      "cell_type": "markdown",
      "source": [
        "***Kiểu set*** trong Python được sử dụng để lưu trữ tập hợp phần tử theo thứ tự ngẫu nhiên và không được phép truy cập hoặc thay đổi các giá trị phần tử bên trong nó. tuy nhiên kiểu Set lại cho phép thêm các phần tử mới vào Set sau khi đã khởi tạo."
      ],
      "metadata": {
        "id": "2_6p_V9jF9uQ"
      }
    },
    {
      "cell_type": "code",
      "source": [
        "# Ví dụ khai báo một setA gồm 5 phần tử\n",
        "setA = {\"ô tô\", \"xe máy\", \"máy bay\", \"tàu thủy\", \"xe buýt\"}\n",
        "print(setA)\n",
        "\n",
        "# Kiểm tra số lượng phần tử có trong setA và kiểu dữ liệu của setA\n",
        "print(len(setA))\n",
        "print(type(setA))\n",
        "\n",
        "# Thêm phần tử mới vào setA bằng phương thức add()\n",
        "setA.add(\"xích thố\")\n",
        "print(setA)\n",
        "# Duyệt các phần tử có trong setA bằng vòng lặp\n",
        "for item in setA:\n",
        "  print(item)\n",
        "\n",
        "# Xóa phần tử trong setA\n",
        "setA.remove(\"xích thố\") # Xóa phần tử \"xích thố\" trong setA\n",
        "\n",
        "setA.pop() # Xóa phần tử cuối cùng trong setA\n",
        "\n",
        "setA.clear() # Xóa toàn bộ phần tử trong setA\n",
        "\n",
        "print(setA)"
      ],
      "metadata": {
        "id": "7AYT4ui3F3ht"
      },
      "execution_count": null,
      "outputs": []
    },
    {
      "cell_type": "markdown",
      "source": [
        "# Kiểu Dict"
      ],
      "metadata": {
        "id": "Ow3yYPi5Ijtk"
      }
    },
    {
      "cell_type": "markdown",
      "source": [
        "***Kiểu Dict*** trong python là tập hợp các phần tử có thứ tự được sử dụng và lưu trữ theo dạng các tập phần tử KEY:VALUE -- các phần tử trong Dict có thể thay đổi và Dict không cho phép các phần tử trùng lặp."
      ],
      "metadata": {
        "id": "Mymo7DL9IiHB"
      }
    },
    {
      "cell_type": "code",
      "source": [
        "# Khai báo một dictA gồm 5 phần tử có các kiểu dữ liệu khác nhau\n",
        "\n",
        "dictA = {\n",
        "    \"ho ten\": \"Phan Quynh Nhu\",\n",
        "    \"xinh gai\": True,\n",
        "    \"que quan\": \"Ha Noi\",\n",
        "    \"nam sinh\": 2002,\n",
        "    \"so thich\": [\"dong vat\", \"cay coi\"]\n",
        "}\n",
        "\n",
        "#In ra các phần tử có trong dictA\n",
        "print(dictA)\n",
        "#Kiểm tra số lượng phần tử và kiểu dữ liệu dictA\n",
        "print(len(dictA))\n",
        "print(type(dictA))\n",
        "\n",
        "#Truy cập các phần tử dictA thông qua KEY\n",
        "print(dictA[\"ho ten\"])\n",
        "#Lấy toàn bộ KEY trong dictA\n",
        "print(dictA.keys())\n",
        "#Lấy toàn bộ VALUE trong dictA\n",
        "print(dictA.values())\n",
        "\n",
        "#Thêm phần tử vào dictA\n",
        "dictA[\"gioi tinh\"] = \"nu\" #Thêm phần tử với KEY là \"gioi tinh\" và VALUE là \"nu\" -- (KEY:VALUE)\n",
        "print(dictA)\n",
        "\n",
        "#Thay đổi VALUE của phần tử trong dictA\n",
        "dictA[\"ho ten\"] = \"Phan Nhu Quynh\"\n",
        "print(dictA)\n",
        "\n",
        "#Duyệt qua các phần tử bằng vòng lặp for\n",
        "for key in dictA:\n",
        "  print(dictA[key]) #In ra các giá trị VALUE dựa vào KEY\n",
        "\n",
        "#Xóa phần tử trong dictA\n",
        "dictA.pop(\"xinh gai\") #Xóa phần tử trong dictA dựa theo KEY = \"xinh gai\"\n",
        "print(dictA) \n",
        "\n",
        "dictA.clear() #Xóa toàn bộ phần tử trong dictA"
      ],
      "metadata": {
        "id": "RFRoh1qcJAXI"
      },
      "execution_count": null,
      "outputs": []
    },
    {
      "cell_type": "markdown",
      "source": [
        "# IF ELSE trong Python"
      ],
      "metadata": {
        "id": "U2aVN97cNL89"
      }
    },
    {
      "cell_type": "markdown",
      "source": [
        "***câu lệnh điều kiện IF*** trong Python được sử dụng để đánh giá (hay kiểm tra) giá trị của một biểu thức, hay một phép toán. Nếu như biểu thức đánh giá được cho là True thì các câu lệnh con bên trong câu lệnh IF sẽ được thực hiện. và ngược lại biểu thức đánh giá là False thì một câu lệnh khác sẽ được thực hiện."
      ],
      "metadata": {
        "id": "eOsVOQpeNJ9Q"
      }
    },
    {
      "cell_type": "code",
      "source": [
        "#Kiểm tra điều kiện và thực thi câu lệnh nếu điều kiện đúng sử dụng IF\n",
        "a = 10\n",
        "b = 13\n",
        "#Nếu b lớn hơn a thì thực thi câu lệnh bên dưới\n",
        "if b > a:\n",
        "  print(\"b lớn hơn a\")\n",
        "else: #Ngược lại nếu b không lớn hơn a thì thực thi câu lệnh print() phía dưới\n",
        "  print(\"a lớn hơn b\")\n",
        "\n",
        "# if else lồng nhau\n",
        "if b > a:\n",
        "  print(\"b lớn hơn a\") #Nếu if đúng thực hiện câu lệnh in ra dòng trên\n",
        "  if b == 13: #Tiếp tục kiểm tra điều kiện thứ 2 khi điều kiện đầu tiên là đúng\n",
        "    print (\"b lớn hơn a và bằng 13\")\n",
        "else: #Ngược lại nếu câu điều kiện thứ nhất sai thì thực thi câu lệnh phía dưới\n",
        "  print(\"b bé hơn a\")\n",
        "\n",
        "\n",
        "#Rút gọn câu lệnh if else\n",
        "print(\"b lớn hơn a\") if b > a else print(\"b nhỏ hơn a\")"
      ],
      "metadata": {
        "id": "wAQWSZb3N0xt"
      },
      "execution_count": null,
      "outputs": []
    },
    {
      "cell_type": "markdown",
      "source": [
        "# Vòng lặp"
      ],
      "metadata": {
        "id": "mO2Tt-2oP8MV"
      }
    },
    {
      "cell_type": "markdown",
      "source": [
        "***Vòng lặp For*** trong Python là một câu lệnh lặp được sử dụng để thực thi lặp lại lại các câu lệnh bên trong một cách tuần tự. Vòng lặp For sẽ lặp đoạn lệnh bên trong theo một số lần nhất định nào đó và số lần lặp phải được chỉ ra rõ ràng."
      ],
      "metadata": {
        "id": "Ymh70-hCP7eR"
      }
    },
    {
      "cell_type": "code",
      "source": [
        "# Viết vòng lặp in ra các giá trị từ 0 đến 6\n",
        "# Coi biến i là từng số cần được duyệt quá trong khoảng từ [0,6)\n",
        "for i in range(0,6):\n",
        "  print(i)\n",
        "\n",
        "#Chú ý: hàm range() trong Python sẽ chỉ lấy ra được giá trị đầu trong khoảng, nhưng lại không lấy giá trị kết thúc trong khoảng \n",
        "#Vì vậy: khi khai báo range(1,6) sẽ chỉ có các giá trị từ: 1, 2, 3, 4, 5 được lấy ra \n",
        "\n",
        "#Ví dụ lặp qua các phần tử trong list\n",
        "ListA = [\"chó\", \"mèo\", \"lợn\", \"gà\", \"khỉ\"]\n",
        "\n",
        "#Coi item là các giá trị có trong listA\n",
        "for item in listA:\n",
        "  print(item)\n",
        "\n",
        "#Ví dụ: Lấy từng kí tự có trong chuỗi\n",
        "txt = \"xinchaocacban\"\n",
        "\n",
        "#Coi x là các ký tự có trong chuỗi\n",
        "for x in txt:\n",
        "  print(x) #in ra từng ký tự i\n",
        "\n",
        "#Ví dụ vòng lặp for kết hợp với câu điều kiện if else \n",
        "for i in range(1,6):\n",
        "  if i % 2 == 0: #Nếu các số chia hết cho 2 thì thực hiện câu lệnh in ra màn hình\n",
        "    print(i)"
      ],
      "metadata": {
        "id": "PD5eey9AQd5J"
      },
      "execution_count": null,
      "outputs": []
    },
    {
      "cell_type": "markdown",
      "source": [
        "***Vòng lặp While*** trong Python là một lệnh lặp lại một khối lệnh cho đến khi một điều kiện nhất định được thỏa mãn. Khi sử dụng vòng lại while cần có câu lệnh tăng (hoặc giảm) biến điều kiện để vòng lặp có thể lặp được một số lần nhất định và kết thúc vòng lặp"
      ],
      "metadata": {
        "id": "JdNwvjlEBUEh"
      }
    },
    {
      "cell_type": "code",
      "source": [
        "#Viết vòng lặp while in ra các trị từ 1 đến 6\n",
        "#Khai báo biến điều kiện i bắt đầu bằng 1\n",
        "i = 1 \n",
        "while i <= 5: #Khi i vẫn đang nhỏ hơn hoặc bằng 5 thì vẫn thực hiện câu lệnh lặp bên trong -> câu lệnh in ra i\n",
        "  print(i)\n",
        "  i+=1 #Tăng biến i lên một đơn vị sau mỗi lần lặp để i tăng dần đến 5 và kết thúc câu lệnh\n",
        "\n",
        "#Ví dụ lặp qua các phần tử có trong list bằng vòng lặp while \n",
        "listA = [1, 2, 3, 4, 5, 6, \"haha\"]\n",
        "#Khai báo biến i có giá trị bằng 0\n",
        "i = 0\n",
        "while i < len(listA): #Khi i vẫn nhỏ hơn số lượng phần tử có trong listA thì vẫn thực hiện câu lệnh trong \n",
        "  print(listA[i]) #In ra các phần tử có trong listA tại vị trí thứ i\n",
        "  i += 1 #Tăng biến i thêm 1 đơn vị để duyệt đến phần tử tiếp theo trong listA\n",
        "\n",
        "#Ví dụ lặp qua các kí tự có trong chuỗi bằng vòng lặp while \n",
        "#Khai báo chuỗi ban đầu \n",
        "txt = \"ahihidongoc\"\n",
        "#Khai báo biến i có giá trị bằng 0\n",
        "i = 0\n",
        "while i < len(txt): #Trong khi 1 vẫn đang nhỏ hơn độ dài của chuỗi thì vẫn tiếp tục thực hiện câu lệnh bên trong\n",
        "  print(txt[i]) #In ra kí tự thứ i trong chuỗi\n",
        "  i += 1 #Tăng biến i thêm 1 đơn vị sau mỗi lần lặp để duyệt tới phần tử tiếp theo trong chuỗi \n",
        "\n",
        "#Ví dụ vòng lặp while với câu điều kiện if else\n",
        "#Khai báo biến i = 1\n",
        "i = 1\n",
        "while i <= 5: #Trong khi i vẫn đang nhỏ hơn hoặc bằng 5 thì vẫn tiếp tục thực hiện lặp\n",
        "  #Nếu giá trị là số chẵn thì in ra màn hình\n",
        "  if i % 2 == 0:\n",
        "    print(i)\n",
        "  i += 1 #tăng i thêm 1 đơn vị sau mỗi lần lặp\n",
        "\n",
        "#Vòng lặp while vô hạn\n",
        "#Trong khi điều kiện lặp vẫn là True thì vẫn tiếp tục thực hiện câu lệnh lặp\n",
        "while True:\n",
        "  #Lặp chuỗi ahihi123 vô hạn lần\n",
        "  print(\"ahihi123\")"
      ],
      "metadata": {
        "id": "7CfpZSp4B26D"
      },
      "execution_count": null,
      "outputs": []
    },
    {
      "cell_type": "markdown",
      "source": [
        "# Hàm số "
      ],
      "metadata": {
        "id": "zBrNcwCqGkzJ"
      }
    },
    {
      "cell_type": "markdown",
      "source": [
        "***Hàm*** là một khối các câu lệnh có liên quan được xây dựng để thực hiện một tác vụ tính toán, xử lý logic hoặc kiểm tra điều kiện trong chương trình. Sử dụng hàm trong Python nhằm mục đích gọi và sử dụng một tác vụ, hành động nhiều lần mà trong hàm đã được định nghĩa. "
      ],
      "metadata": {
        "id": "-XLJfwnZGkDL"
      }
    },
    {
      "cell_type": "code",
      "source": [
        "# Khai báo mooth hàm hello() trong hàm sẽ có lệnh in ra màn hình\n",
        "def hello():\n",
        "  #Câu lệnh bên trong hàm\n",
        "  print(\"Xin chào\")\n",
        "#Gọi và thực thi hàm hello() đã được định nghĩa ở trên\n",
        "hello()\n",
        "\n",
        "\n",
        "#Ví dụ: thử truyền vào các tham số cho hàm bello()\n",
        "# Khai báo biến name --Biến toàn cục\n",
        "name = \"Doãn Chí Bình\"\n",
        "def bello(name): #Khai báo hàm bello(name) có tham số truyền vào là name\n",
        "  print(\"Xin chào\", name) #Câu lệnh bên trong hàm\n",
        "bello(name) #Gọi hàm bello(name) và truyền tham số là biến name vào hàm\n",
        "\n",
        "\n",
        "#Khai báo hàm có giá trị trả về\n",
        "#Khai báo hai biến a và b là các số nguyên\n",
        "a = 5\n",
        "b = 4\n",
        "def sum(a, b): #Khai báo hàm sum(a, b) có 2 tham số truyền vào là a và b\n",
        "  tong = a + b #Tạo biến tổng gán giá trị là tổng của 2 số a + b\n",
        "  #Trả về giá trị của biến tong cho hàm sum(a, b) thông qua câu lệnh return\n",
        "  return tong\n",
        "print(sum(a, b))\n",
        "\n",
        "\n",
        "#Trả về nhiều giá trị trong một hàm\n",
        "#Khai báo hàm square(a,b) có hai tham số là a và b\n",
        "def square(a, b):\n",
        "  a **= 2\n",
        "  b **= 2\n",
        "  # Trả về 2 giá trị bình phương của a và b\n",
        "  return a, b\n",
        "#Khởi tạo 2 biến a_square và b_square rồi gán nó vào 2 giá trị được trả về trong hàm square(a, b)\n",
        "(a_square, b_square) = square(a, b)\n",
        "#In ra hai giá trị của 2 biến a_square và b_square\n",
        "print(a_square)\n",
        "print(b_square)"
      ],
      "metadata": {
        "id": "7lx_w2ueHXun"
      },
      "execution_count": null,
      "outputs": []
    },
    {
      "cell_type": "markdown",
      "source": [
        "# Xử lý ngoại lệ Try Except\n"
      ],
      "metadata": {
        "id": "UhCf4_itK9Vl"
      }
    },
    {
      "cell_type": "markdown",
      "source": [
        "Trong Python, khi thục thi một chương trình mà xuất hiện lỗi thì có thể có hai loại, một là lỗi cú pháp và hai là lỗi ngoại lệ. Các ngoại lệ được đưa ra với mục đích phá vỡ luồng thực thi chương trình đó. Khi một ngoại lệ xuất hiện, chương trình sẽ ngừng thực thi, chuyển qua quá trình gọi và in ra lỗi đến khi nó được xử lý "
      ],
      "metadata": {
        "id": "o6bEeox1K8xh"
      }
    },
    {
      "cell_type": "code",
      "source": [
        "# Xử lý ngoại lệ \n",
        "# thử in ra giá trị của biến x nhưng chưa được khai báo trước\n",
        "try:\n",
        "  print(x)\n",
        "except:\n",
        "  print(\"mọt ngoai le da xay ra\")\n",
        "\n",
        "# Xử lý nhiều ngoại lệ\n",
        "# Thử in ra giá trị của biến x nhưng chưa được khai báo trước\n",
        "try:\n",
        "  print(x)\n",
        "except NameError: #Trường hợp lỗi là NameError\n",
        "  print(\"Biến chưa được định nghĩa\")\n",
        "except: #trường hợp nếu tồn tại một lỗi khác\n",
        "  print(\"Đã tồn tại một lỗi khác trong chương trình\")\n",
        "\n",
        "\n",
        "#Xử lý ngoại lệ với cấu trúc if else\n",
        "x = -1\n",
        "if  x < 0:\n",
        "  #Trả về ngoại lệ do người dùng tự định nghĩa \n",
        "  raise Exception(\"Sorry, no numbers below zero\")\n",
        "  \n",
        "\n",
        "x = \"hello\"\n",
        "#Trả về ngoại lệ nếu x không phải là kiểu số nguyên\n",
        "if not type(x) is int:\n",
        "  raise TypeError(\"Only integers are allowed\")\n",
        "\n",
        "\n",
        "#Thực hiện một đoạn lệnh ngay cả khi chương trình có lỗi hay không có lỗi \n",
        "#Khai váo biến x, y bằng 0\n",
        "x = y = 0\n",
        "#Thử thực hiện phép tính 0/0\n",
        "try:\n",
        "  x / y\n",
        "#Nếu khối try có lỗi thì thực hiện câu lệnh phía dưới\n",
        "except: \n",
        "  print(\"bien chua duoc dinh nghia\")\n",
        "#Câu lệnh trong finally thực thi ngay cả khi chương trình có lỗi hay không có lỗi\n",
        "finally:\n",
        "  print(\"hello\")\n"
      ],
      "metadata": {
        "id": "hjQlfbOULr5M"
      },
      "execution_count": null,
      "outputs": []
    },
    {
      "cell_type": "markdown",
      "source": [
        "# File"
      ],
      "metadata": {
        "id": "uAXwAnJ1PmD7"
      }
    },
    {
      "cell_type": "markdown",
      "source": [
        "Python hỗ trợ xử lý file và cho phép người lập trình viên có thể, thao tác mở, đọc và ghi tệp, cùng với nhiều tùy chọn xử lý file khác có thể hoạt động trên file"
      ],
      "metadata": {
        "id": "PlGm8S49Po-a"
      }
    },
    {
      "cell_type": "code",
      "source": [
        "#ví dụ mở 1 file hello.txt với chế độ đọc \"r\"\n",
        "#hàm open(\"< đường dẫn tới file >\", \"< Chế độ >\" )\n",
        "f = open(\"E:\\Python\\hello.txt\", \"r\")\n",
        "#Duyệt qua nội dung trong file\n",
        "for text in f:\n",
        "  print(text, end=\" \") #In ra từng từ trong file\n",
        "f.close() #Đóng file vừa mở "
      ],
      "metadata": {
        "id": "PsIowbIRPVQh"
      },
      "execution_count": null,
      "outputs": []
    },
    {
      "cell_type": "code",
      "source": [
        "#Ví dụ thử mở một file, trong trường hợp file không tồn tại sẽ kết thúc việc mở file\n",
        "try:\n",
        "  #thử mở một file\n",
        "  f = open(\"E:\\Python\\hello.txt\", \"r\")\n",
        "  #Duyệt qua nội dung trong file\n",
        "for text in f:\n",
        "  print(each, end=\" \") #In ra từng từ trong file\n",
        "finally: #Trường hợp file không tồn tại hoặc có lỗi khi mở file\n",
        "  f.close() #Kết thúc việc mở file"
      ],
      "metadata": {
        "id": "GMDgq9wUTdFq"
      },
      "execution_count": null,
      "outputs": []
    },
    {
      "cell_type": "code",
      "source": [
        "#Chèn thêm nội dung vào cuối file ban đầu với chế độ \"a\"\n",
        "#Mở file với chế độ \"a\" để có thể chèn thêm nội dung vào cuối file\n",
        "f = open(\"E:\\Python\\hello.txt\", \"a\")\n",
        "\n",
        "#Khai báo chuỗi cần thêm vào file\n",
        "data = \"Ahihi do ngok\"\n",
        "#Ghi data vào cuối file\n",
        "f.write(data)\n",
        "#Đóng file\n",
        "f.close()"
      ],
      "metadata": {
        "id": "3Pzz6GfXUbL_"
      },
      "execution_count": null,
      "outputs": []
    },
    {
      "cell_type": "code",
      "source": [
        "#Ghi đè dữ liệu mới vào file với chế độ \"w\"\n",
        "#Mở file với chế độ \"w\" để có thể ghi đè nội dung vào file\n",
        "f = open(\"E:\\Python\\hello.txt\", \"w\")\n",
        "\n",
        "#Khai báo chuỗi cần ghi đè vào file\n",
        "data = \"Ahihi do do hoi\"\n",
        "#Ghi đè data vào file với phương thức f.write\n",
        "f.write(data)\n",
        "#Đóng file\n",
        "f.close()"
      ],
      "metadata": {
        "id": "3Zmvlxf0Vg_p"
      },
      "execution_count": null,
      "outputs": []
    },
    {
      "cell_type": "code",
      "source": [
        "#Ví dụ xóa file với thư viện os\n",
        "#Nhập thư viện vào chương trình\n",
        "import os\n",
        "#Sử dụng phương thức os.remove(địa_chỉ_file) để xóa file trong hệ thống\n",
        "os.remove(\"E:\\Python\\hello.txt\") #Xóa file hello.txt trong mục E"
      ],
      "metadata": {
        "id": "sXTVftcaWAmT"
      },
      "execution_count": null,
      "outputs": []
    },
    {
      "cell_type": "code",
      "source": [
        "#Xóa một thư mục với thư viện os \n",
        "#Sử dụng phương thức os.rmdir(địa_chỉ_thư_mục) để xóa một thư mục trong hệ thống"
      ],
      "metadata": {
        "id": "8JWv2eh6WgP_"
      },
      "execution_count": null,
      "outputs": []
    }
  ]
}